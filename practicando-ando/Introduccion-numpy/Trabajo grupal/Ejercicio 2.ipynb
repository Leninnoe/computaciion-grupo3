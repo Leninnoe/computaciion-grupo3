{
 "cells": [
  {
   "cell_type": "markdown",
   "id": "decd3e29",
   "metadata": {},
   "source": [
    "Ejercicio 2"
   ]
  },
  {
   "cell_type": "markdown",
   "id": "666736e8-5c07-4282-8c7b-b0dd8e3e1d2c",
   "metadata": {},
   "source": [
    "Crea un vector de 10 elementos, siendo los impares 1 y los pares 2."
   ]
  },
  {
   "cell_type": "code",
   "execution_count": 4,
   "id": "401f8c43-1724-4063-8730-5490f00036f7",
   "metadata": {},
   "outputs": [
    {
     "name": "stdout",
     "output_type": "stream",
     "text": [
      "[1 2 1 2 1 2 1 2 1 2]\n"
     ]
    }
   ],
   "source": [
    "import numpy as np\n",
    "\n",
    "# Crear un vector de 10 elementos lleno de ceros\n",
    "vector = np.zeros(10, dtype=int)\n",
    "\n",
    "# Asignar 1 a los elementos en posiciones impares\n",
    "vector[::2] = 1\n",
    "\n",
    "# Asignar 2 a los elementos en posiciones pares\n",
    "\n",
    "print(vector)"
   ]
  },
  {
   "cell_type": "markdown",
   "id": "6234f327-26de-4836-96b8-84e74c054744",
   "metadata": {},
   "source": [
    "Crea un «tablero de ajedrez» 8x8, con 1 en las casillas negras y 0 en las casillas\n",
    "blancas."
   ]
  },
  {
   "cell_type": "code",
   "execution_count": 5,
   "id": "888e78a4-52e6-4067-922c-beb30e580193",
   "metadata": {},
   "outputs": [
    {
     "name": "stdout",
     "output_type": "stream",
     "text": [
      "[[0 1 0 1 0 1 0 1]\n",
      " [1 0 1 0 1 0 1 0]\n",
      " [0 1 0 1 0 1 0 1]\n",
      " [1 0 1 0 1 0 1 0]\n",
      " [0 1 0 1 0 1 0 1]\n",
      " [1 0 1 0 1 0 1 0]\n",
      " [0 1 0 1 0 1 0 1]\n",
      " [1 0 1 0 1 0 1 0]]\n"
     ]
    }
   ],
   "source": [
    "import numpy as np\n",
    "\n",
    "# Crear un tablero de ajedrez 8x8 lleno de ceros\n",
    "tablero = np.zeros((8, 8), dtype=int)\n",
    "\n",
    "# Asignar 1 a las casillas negras (filas y columnas impares)\n",
    "tablero[1::2, ::2] = 1\n",
    "tablero[::2, 1::2] = 1\n",
    "\n",
    "print(tablero)"
   ]
  }
 ],
 "metadata": {
  "kernelspec": {
   "display_name": "Python 3 (ipykernel)",
   "language": "python",
   "name": "python3"
  },
  "language_info": {
   "codemirror_mode": {
    "name": "ipython",
    "version": 3
   },
   "file_extension": ".py",
   "mimetype": "text/x-python",
   "name": "python",
   "nbconvert_exporter": "python",
   "pygments_lexer": "ipython3",
   "version": "3.11.5"
  }
 },
 "nbformat": 4,
 "nbformat_minor": 5
}
