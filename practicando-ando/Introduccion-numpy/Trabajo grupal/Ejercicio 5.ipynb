{
 "cells": [
  {
   "cell_type": "markdown",
   "id": "7de5196a",
   "metadata": {},
   "source": [
    "Ejercicio 5"
   ]
  },
  {
   "cell_type": "code",
   "execution_count": 1,
   "id": "90c6dcfd-2317-449e-b163-1f05acd5ce35",
   "metadata": {},
   "outputs": [
    {
     "name": "stdout",
     "output_type": "stream",
     "text": [
      "Matriz Roja: [1, 3, 5, 11, 13, 15, 21, 23, 25]\n",
      "Matriz Azul: [2, 4, 12, 14, 22, 24]\n",
      "Matriz Verde: [7, 9, 17, 19, 27, 29]\n",
      "Matriz Amarilla: [6, 8, 10, 16, 18, 20, 26, 28, 30]\n"
     ]
    }
   ],
   "source": [
    "# Define la matriz\n",
    "matriz = [\n",
    "    [1, 2, 3, 4, 5],\n",
    "    [6, 7, 8, 9, 10],\n",
    "    [11, 12, 13, 14 ,15],\n",
    "    [16 ,17 ,18 ,19 ,20],\n",
    "    [21 ,22 ,23 ,24 ,25],\n",
    "    [26 ,27 ,28 ,29 ,30]\n",
    "]\n",
    "# Extrae las submatrices por color\n",
    "rojo = [matriz[i][j] for i in range(len(matriz)) for j in range(len(matriz[i])) if (i+j) % 2 == 0 and i % 2 == 0]\n",
    "azul = [matriz[i][j] for i in range(len(matriz)) for j in range(len(matriz[i])) if (i+j) % 2 != 0 and i % 2 == 0]\n",
    "verde = [matriz[i][j] for i in range(len(matriz)) for j in range(len(matriz[i])) if (i+j) % 2 == 0 and i % 2 != 0]\n",
    "amarillo = [matriz[i][j] for i in range(len(matriz)) for j in range(len(matriz[i])) if (i+j) % 2 != 0 and i % 2 != 0]\n",
    "# Imprime los resultados\n",
    "print(\"Matriz Roja:\", rojo)\n",
    "print(\"Matriz Azul:\", azul)\n",
    "print(\"Matriz Verde:\", verde)\n",
    "print(\"Matriz Amarilla:\", amarillo)"
   ]
  }
 ],
 "metadata": {
  "kernelspec": {
   "display_name": "Python 3 (ipykernel)",
   "language": "python",
   "name": "python3"
  },
  "language_info": {
   "codemirror_mode": {
    "name": "ipython",
    "version": 3
   },
   "file_extension": ".py",
   "mimetype": "text/x-python",
   "name": "python",
   "nbconvert_exporter": "python",
   "pygments_lexer": "ipython3",
   "version": "3.11.5"
  }
 },
 "nbformat": 4,
 "nbformat_minor": 5
}
