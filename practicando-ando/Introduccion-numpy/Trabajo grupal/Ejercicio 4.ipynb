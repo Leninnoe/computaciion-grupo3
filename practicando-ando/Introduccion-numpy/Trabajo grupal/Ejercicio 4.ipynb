{
 "cells": [
  {
   "cell_type": "markdown",
   "id": "3148b3f8",
   "metadata": {},
   "source": [
    "Ejercicio 4"
   ]
  },
  {
   "cell_type": "code",
   "execution_count": 6,
   "id": "50b40070-b42a-4c87-93d5-1df20d0a6e14",
   "metadata": {},
   "outputs": [
    {
     "name": "stdout",
     "output_type": "stream",
     "text": [
      "[[9 9 9 9 9]\n",
      " [9 0 0 0 9]\n",
      " [9 0 9 0 9]\n",
      " [9 0 0 0 9]\n",
      " [9 9 9 9 9]]\n"
     ]
    }
   ],
   "source": [
    "import numpy as np\n",
    "# Crear una matriz\n",
    "matriz = np.array([[1, 1, 1, 1, 1],\n",
    "                   [1, 0, 0, 0, 1],\n",
    "                   [1, 0, 9, 0, 1],\n",
    "                   [1, 0, 0, 0, 1],\n",
    "                   [1, 1, 1, 1, 1]])\n",
    "\n",
    "# Invertir los valores de 9 y 1\n",
    "matriz[matriz == 9] = 1\n",
    "matriz[matriz == 1] = 9\n",
    "print(matriz)"
   ]
  }
 ],
 "metadata": {
  "kernelspec": {
   "display_name": "Python 3 (ipykernel)",
   "language": "python",
   "name": "python3"
  },
  "language_info": {
   "codemirror_mode": {
    "name": "ipython",
    "version": 3
   },
   "file_extension": ".py",
   "mimetype": "text/x-python",
   "name": "python",
   "nbconvert_exporter": "python",
   "pygments_lexer": "ipython3",
   "version": "3.11.5"
  }
 },
 "nbformat": 4,
 "nbformat_minor": 5
}
