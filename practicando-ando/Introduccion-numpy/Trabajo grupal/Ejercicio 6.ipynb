{
 "cells": [
  {
   "cell_type": "markdown",
   "id": "b1b5c7df-a91f-4566-8e89-a14682f38800",
   "metadata": {},
   "source": [
    "Ejercicio 6"
   ]
  },
  {
   "cell_type": "code",
   "execution_count": 1,
   "id": "6f8bda42-bb2f-47f8-a69a-7b62b56efb90",
   "metadata": {},
   "outputs": [
    {
     "name": "stdout",
     "output_type": "stream",
     "text": [
      "[11, 19]\n",
      "[21, 9]\n"
     ]
    }
   ],
   "source": [
    "# Crear una matriz de 2x2\n",
    "matrix = [[8, 14], [12, 7]]\n",
    "# Acceder al elemento en la primera fila y segunda columna\n",
    "element = matrix[0][1]  # Esto devuelve 14\n",
    "# Crear dos matrices de 2x2\n",
    "matrix_a = [[8, 14], [12, 7]]\n",
    "matrix_b = [[3, 5], [9, 2]]\n",
    "\n",
    "# Inicializar una matriz vacía para almacenar el resultado\n",
    "result_matrix = [[0, 0], [0, 0]]\n",
    "\n",
    "# Sumar las matrices\n",
    "for i in range(len(matrix_a)):\n",
    "    for j in range(len(matrix_a[0])):\n",
    "        result_matrix[i][j] = matrix_a[i][j] + matrix_b[i][j]\n",
    "\n",
    "# Imprimir la matriz resultante\n",
    "for row in result_matrix:\n",
    "    print(row)"
   ]
  }
 ],
 "metadata": {
  "kernelspec": {
   "display_name": "Python 3 (ipykernel)",
   "language": "python",
   "name": "python3"
  },
  "language_info": {
   "codemirror_mode": {
    "name": "ipython",
    "version": 3
   },
   "file_extension": ".py",
   "mimetype": "text/x-python",
   "name": "python",
   "nbconvert_exporter": "python",
   "pygments_lexer": "ipython3",
   "version": "3.11.5"
  }
 },
 "nbformat": 4,
 "nbformat_minor": 5
}
