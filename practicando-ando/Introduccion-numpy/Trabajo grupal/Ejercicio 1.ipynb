{
 "cells": [
  {
   "cell_type": "markdown",
   "id": "85a7ad14",
   "metadata": {},
   "source": [
    "Ejercicio 1"
   ]
  },
  {
   "cell_type": "markdown",
   "id": "8e3b4c77-000e-4a8d-85bb-e27367f50cfa",
   "metadata": {},
   "source": [
    "Crear un array 7x8 lleno de ceros de tipo entero"
   ]
  },
  {
   "cell_type": "code",
   "execution_count": 4,
   "id": "ab239463-19ed-494d-93df-383dd3d68ba1",
   "metadata": {},
   "outputs": [
    {
     "name": "stdout",
     "output_type": "stream",
     "text": [
      "[[0 0 0 0 0 0 0 0]\n",
      " [0 0 0 0 0 0 0 0]\n",
      " [0 0 0 0 0 0 0 0]\n",
      " [0 0 0 0 0 0 0 0]\n",
      " [0 0 0 0 0 0 0 0]\n",
      " [0 0 0 0 0 0 0 0]\n",
      " [0 0 0 0 0 0 0 0]]\n"
     ]
    }
   ],
   "source": [
    "import numpy as np\n",
    "\n",
    "# Crear un array 7x8 lleno de ceros de tipo entero\n",
    "array_7x8 = np.zeros((7, 8), dtype=int)\n",
    "\n",
    "print(array_7x8)"
   ]
  },
  {
   "cell_type": "markdown",
   "id": "c4ee3660-4c3c-477d-ba7b-1e2584fabbd8",
   "metadata": {},
   "source": [
    "Crear un array 7x8 lleno de ceros salvo la primera fila que serán todo unos."
   ]
  },
  {
   "cell_type": "code",
   "execution_count": 5,
   "id": "62f3e49d-4e93-46b6-b8ff-bb26b30d4429",
   "metadata": {},
   "outputs": [
    {
     "name": "stdout",
     "output_type": "stream",
     "text": [
      "[[1 1 1 1 1 1 1 1]\n",
      " [0 0 0 0 0 0 0 0]\n",
      " [0 0 0 0 0 0 0 0]\n",
      " [0 0 0 0 0 0 0 0]\n",
      " [0 0 0 0 0 0 0 0]\n",
      " [0 0 0 0 0 0 0 0]\n",
      " [0 0 0 0 0 0 0 0]]\n"
     ]
    }
   ],
   "source": [
    "import numpy as np\n",
    "\n",
    "# Crear un array 7x8 lleno de ceros de tipo entero\n",
    "array_7x8 = np.zeros((7, 8), dtype=int)\n",
    "\n",
    "# Cambiar la primera fila a unos\n",
    "array_7x8[0, :] = 1\n",
    "\n",
    "print(array_7x8)"
   ]
  },
  {
   "cell_type": "markdown",
   "id": "10e9f5a9-48f1-48e0-b160-dac8c1c6e7bb",
   "metadata": {},
   "source": [
    "Crear un array 7x8 lleno de ceros salvo la última fila que será el rango entre 5 y 8."
   ]
  },
  {
   "cell_type": "code",
   "execution_count": 6,
   "id": "0d6a6db8-941e-41f6-b34c-f6d6b8d7a1b3",
   "metadata": {},
   "outputs": [
    {
     "name": "stdout",
     "output_type": "stream",
     "text": [
      "[[ 0  0  0  0  0  0  0  0]\n",
      " [ 0  0  0  0  0  0  0  0]\n",
      " [ 0  0  0  0  0  0  0  0]\n",
      " [ 0  0  0  0  0  0  0  0]\n",
      " [ 0  0  0  0  0  0  0  0]\n",
      " [ 0  0  0  0  0  0  0  0]\n",
      " [ 5  6  7  8  9 10 11 12]]\n"
     ]
    }
   ],
   "source": [
    "import numpy as np\n",
    "\n",
    "# Crear un array 7x8 lleno de ceros de tipo entero\n",
    "array_7x8 = np.zeros((7, 8), dtype=int)\n",
    "\n",
    "# Asignar a la última fila una secuencia de números del 5 al 12\n",
    "array_7x8[-1, :] = np.arange(5, 13)\n",
    "\n",
    "print(array_7x8)"
   ]
  }
 ],
 "metadata": {
  "kernelspec": {
   "display_name": "Python 3 (ipykernel)",
   "language": "python",
   "name": "python3"
  },
  "language_info": {
   "codemirror_mode": {
    "name": "ipython",
    "version": 3
   },
   "file_extension": ".py",
   "mimetype": "text/x-python",
   "name": "python",
   "nbconvert_exporter": "python",
   "pygments_lexer": "ipython3",
   "version": "3.11.5"
  }
 },
 "nbformat": 4,
 "nbformat_minor": 5
}
