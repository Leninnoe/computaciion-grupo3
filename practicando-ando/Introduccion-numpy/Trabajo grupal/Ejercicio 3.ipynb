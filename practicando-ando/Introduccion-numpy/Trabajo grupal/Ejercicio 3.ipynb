{
 "cells": [
  {
   "cell_type": "markdown",
   "id": "06d220bb",
   "metadata": {},
   "source": [
    "Ejercicio 3"
   ]
  },
  {
   "cell_type": "markdown",
   "id": "3b8435f3-7c6a-466a-bfd0-1dd88b3a0e52",
   "metadata": {},
   "source": [
    "Crea una matriz aleatoria 7x7 y halla los valores mínimo y máximo."
   ]
  },
  {
   "cell_type": "code",
   "execution_count": 2,
   "id": "0d977bd7-472c-4c99-a182-a0c81d413377",
   "metadata": {},
   "outputs": [
    {
     "name": "stdout",
     "output_type": "stream",
     "text": [
      "Matriz aleatoria:\n",
      "[[0.07936082 0.24288746 0.61836526 0.84185141 0.13470158 0.27034041\n",
      "  0.49842412]\n",
      " [0.64673543 0.98727639 0.20120557 0.46800869 0.45308947 0.28684609\n",
      "  0.37945246]\n",
      " [0.41960366 0.75857296 0.25740023 0.57653912 0.06339964 0.45475126\n",
      "  0.09983973]\n",
      " [0.11894529 0.32749275 0.11514568 0.97480198 0.79694563 0.77070717\n",
      "  0.96143413]\n",
      " [0.29166618 0.57443706 0.20970754 0.87804009 0.78221647 0.88641794\n",
      "  0.3554694 ]\n",
      " [0.04792339 0.2429058  0.30235584 0.05970803 0.62545636 0.5599259\n",
      "  0.70061726]\n",
      " [0.50337827 0.83674175 0.41368415 0.21988159 0.26905386 0.09711057\n",
      "  0.12522986]]\n",
      "\n",
      "Valor mínimo: 0.047923386858435224\n",
      "Valor máximo: 0.9872763850911593\n"
     ]
    }
   ],
   "source": [
    "import numpy as np\n",
    "# Crear una matriz aleatoria 7x7\n",
    "matriz_aleatoria = np.random.rand(7, 7)\n",
    "\n",
    "# Encontrar el valor mínimo y máximo\n",
    "minimo = np.min(matriz_aleatoria)\n",
    "maximo = np.max(matriz_aleatoria)\n",
    "\n",
    "print(\"Matriz aleatoria:\")\n",
    "print(matriz_aleatoria)\n",
    "print(\"\\nValor mínimo:\", minimo)\n",
    "print(\"Valor máximo:\", maximo)"
   ]
  },
  {
   "cell_type": "markdown",
   "id": "bd59ecf2-e70e-41ea-a2bc-dc34a3416a30",
   "metadata": {},
   "source": [
    "Normaliza la matriz anterior entre 0 y 1."
   ]
  },
  {
   "cell_type": "code",
   "execution_count": 4,
   "id": "bc003a49-4c46-4a01-b7ad-6a8ae57d51fe",
   "metadata": {},
   "outputs": [
    {
     "name": "stdout",
     "output_type": "stream",
     "text": [
      "Matriz aleatoria:\n",
      "[[0.08023607 0.46000645 0.94115666 0.02218572 0.75339708 0.36125939\n",
      "  0.19240775]\n",
      " [0.88262317 0.76046045 0.74832108 0.27128088 0.70736793 0.3936731\n",
      "  0.57653911]\n",
      " [0.92040551 0.96489706 0.30690034 0.55886161 0.28660898 0.61029228\n",
      "  0.21537456]\n",
      " [0.63587005 0.31316198 0.09823709 0.90435711 0.76344516 0.0747859\n",
      "  0.81029638]\n",
      " [0.12198268 0.7420062  0.31754441 0.58937655 0.81829252 0.64039426\n",
      "  0.31347698]\n",
      " [0.57085414 0.21715808 0.10702802 0.93994543 0.00575894 0.03835957\n",
      "  0.14081289]\n",
      " [0.58240407 0.93951076 0.20065416 0.73019643 0.71480324 0.02402266\n",
      "  0.84955787]]\n",
      "\n",
      "Matriz normalizada:\n",
      "[[0.07765005 0.47359968 0.9752482  0.01712661 0.77948955 0.37064573\n",
      "  0.19460055]\n",
      " [0.91422101 0.78685384 0.77419729 0.2768339  0.73149943 0.40444036\n",
      "  0.59509695]\n",
      " [0.95361298 1.         0.31397084 0.57666634 0.29281501 0.63028809\n",
      "  0.21854582]\n",
      " [0.65695555 0.32049924 0.09641797 0.93688089 0.78996571 0.0719677\n",
      "  0.83881291]\n",
      " [0.12117519 0.76761339 0.32506838 0.6084813  0.84714971 0.66167251\n",
      "  0.32082766]\n",
      " [0.58916979 0.22040532 0.10558341 0.97398537 0.         0.0339895\n",
      "  0.14080761]\n",
      " [0.60121177 0.97353218 0.20319828 0.75530049 0.7392515  0.01904181\n",
      "  0.87974705]]\n"
     ]
    }
   ],
   "source": [
    "import numpy as np\n",
    "# Matriz aleatoria\n",
    "matriz_aleatoria = np.random.rand(7, 7)\n",
    "# Encontrar el valor mínimo y máximo\n",
    "minimo = np.min(matriz_aleatoria)\n",
    "maximo = np.max(matriz_aleatoria)\n",
    "# Normalizar la matriz entre 0 y 1\n",
    "matriz_normalizada = (matriz_aleatoria - minimo) / (maximo - minimo)\n",
    "print(\"Matriz aleatoria:\")\n",
    "print(matriz_aleatoria)\n",
    "print(\"\\nMatriz normalizada:\")\n",
    "print(matriz_normalizada)"
   ]
  }
 ],
 "metadata": {
  "kernelspec": {
   "display_name": "Python 3 (ipykernel)",
   "language": "python",
   "name": "python3"
  },
  "language_info": {
   "codemirror_mode": {
    "name": "ipython",
    "version": 3
   },
   "file_extension": ".py",
   "mimetype": "text/x-python",
   "name": "python",
   "nbconvert_exporter": "python",
   "pygments_lexer": "ipython3",
   "version": "3.11.5"
  }
 },
 "nbformat": 4,
 "nbformat_minor": 5
}
