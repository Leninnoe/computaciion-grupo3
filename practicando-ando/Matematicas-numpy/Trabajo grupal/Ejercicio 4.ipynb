{
 "cells": [
  {
   "cell_type": "code",
   "execution_count": 4,
   "id": "e2e6d2c1-8dea-4dc2-ba91-888cab834bd6",
   "metadata": {},
   "outputs": [
    {
     "name": "stdout",
     "output_type": "stream",
     "text": [
      "\n",
      "Operaciones con Matrices\n",
      "1. Calcular Inversa de una Matriz\n",
      "2. Multiplicar dos Matrices\n",
      "3. Resolver un Sistema de Ecuaciones Lineales\n",
      "4. Salir\n"
     ]
    },
    {
     "name": "stdin",
     "output_type": "stream",
     "text": [
      "Seleccione una opción:  1\n"
     ]
    },
    {
     "name": "stdout",
     "output_type": "stream",
     "text": [
      "\n",
      "Calcular Inversa de una Matriz\n"
     ]
    },
    {
     "name": "stdin",
     "output_type": "stream",
     "text": [
      "Ingrese el tamaño de la matriz (n x n):  3\n",
      "Ingrese la fila 1:  2 1 1\n",
      "Ingrese la fila 2:  1 3 2\n",
      "Ingrese la fila 3:  1 0 0\n"
     ]
    },
    {
     "name": "stdout",
     "output_type": "stream",
     "text": [
      "Matriz Inversa:\n",
      "[[ 0.  0.  1.]\n",
      " [-2.  1.  3.]\n",
      " [ 3. -1. -5.]]\n",
      "\n",
      "Operaciones con Matrices\n",
      "1. Calcular Inversa de una Matriz\n",
      "2. Multiplicar dos Matrices\n",
      "3. Resolver un Sistema de Ecuaciones Lineales\n",
      "4. Salir\n"
     ]
    },
    {
     "name": "stdin",
     "output_type": "stream",
     "text": [
      "Seleccione una opción:  4\n"
     ]
    },
    {
     "name": "stdout",
     "output_type": "stream",
     "text": [
      "Saliendo del programa...\n"
     ]
    }
   ],
   "source": [
    "import numpy as np\n",
    "from scipy.linalg import inv, solve\n",
    "\n",
    "# Función para calcular la inversa de una matriz\n",
    "def calcular_inversa(matriz):\n",
    "    try:\n",
    "        return inv(matriz)\n",
    "    except np.linalg.LinAlgError:\n",
    "        return \"La matriz no es invertible.\"\n",
    "\n",
    "# Función para multiplicar dos matrices\n",
    "def multiplicar_matrices(matriz1, matriz2):\n",
    "    return np.dot(matriz1, matriz2)\n",
    "\n",
    "# Función para resolver un sistema de ecuaciones lineales\n",
    "def resolver_sistema(A, b):\n",
    "    try:\n",
    "        return solve(A, b)\n",
    "    except np.linalg.LinAlgError:\n",
    "        return \"El sistema no tiene solución única.\"\n",
    "\n",
    "# Función principal\n",
    "def main():\n",
    "    while True:\n",
    "        print(\"\\nOperaciones con Matrices\")\n",
    "        print(\"1. Calcular Inversa de una Matriz\")\n",
    "        print(\"2. Multiplicar dos Matrices\")\n",
    "        print(\"3. Resolver un Sistema de Ecuaciones Lineales\")\n",
    "        print(\"4. Salir\")\n",
    "        \n",
    "        opcion = input(\"Seleccione una opción: \")\n",
    "        \n",
    "        if opcion == '1':\n",
    "            print(\"\\nCalcular Inversa de una Matriz\")\n",
    "            matriz = []\n",
    "            n = int(input(\"Ingrese el tamaño de la matriz (n x n): \"))\n",
    "            for i in range(n):\n",
    "                fila = list(map(float, input(f\"Ingrese la fila {i+1}: \").split()))\n",
    "                matriz.append(fila)\n",
    "            matriz = np.array(matriz)\n",
    "            print(\"Matriz Inversa:\")\n",
    "            print(calcular_inversa(matriz))\n",
    "        \n",
    "        elif opcion == '2':\n",
    "            print(\"\\nMultiplicar dos Matrices\")\n",
    "            matriz1 = []\n",
    "            matriz2 = []\n",
    "            n1, m1 = map(int, input(\"Ingrese las dimensiones de la primera matriz (n x m): \").split())\n",
    "            for i in range(n1):\n",
    "                fila = list(map(float, input(f\"Ingrese la fila {i+1} de la primera matriz: \").split()))\n",
    "                matriz1.append(fila)\n",
    "            matriz1 = np.array(matriz1)\n",
    "            \n",
    "            n2, m2 = map(int, input(\"Ingrese las dimensiones de la segunda matriz (n x m): \").split())\n",
    "            for i in range(n2):\n",
    "                fila = list(map(float, input(f\"Ingrese la fila {i+1} de la segunda matriz: \").split()))\n",
    "                matriz2.append(fila)\n",
    "            matriz2 = np.array(matriz2)\n",
    "            \n",
    "            if m1 != n2:\n",
    "                print(\"No se pueden multiplicar las matrices: el número de columnas de la primera matriz debe ser igual al número de filas de la segunda matriz.\")\n",
    "            else:\n",
    "                print(\"Resultado de la Multiplicación:\")\n",
    "                print(multiplicar_matrices(matriz1, matriz2))\n",
    "        \n",
    "        elif opcion == '3':\n",
    "            print(\"\\nResolver un Sistema de Ecuaciones Lineales\")\n",
    "            A = []\n",
    "            b = []\n",
    "            n = int(input(\"Ingrese el número de ecuaciones (y variables): \"))\n",
    "            print(\"Ingrese la matriz de coeficientes A:\")\n",
    "            for i in range(n):\n",
    "                fila = list(map(float, input(f\"Ingrese la fila {i+1} de A: \").split()))\n",
    "                A.append(fila)\n",
    "            A = np.array(A)\n",
    "            \n",
    "            print(\"Ingrese el vector de términos independientes b:\")\n",
    "            b = list(map(float, input(\"Ingrese el vector b: \").split()))\n",
    "            b = np.array(b)\n",
    "            \n",
    "            print(\"Solución del Sistema:\")\n",
    "            print(resolver_sistema(A, b))\n",
    "        \n",
    "        elif opcion == '4':\n",
    "            print(\"Saliendo del programa...\")\n",
    "            break\n",
    "        \n",
    "        else:\n",
    "            print(\"Opción no válida. Por favor, seleccione una opción válida.\")\n",
    "\n",
    "# Ejecutar la función principal\n",
    "main()"
   ]
  },
  {
   "cell_type": "code",
   "execution_count": null,
   "id": "e2ae48dd-5617-4cc9-b384-2e21542f7c08",
   "metadata": {},
   "outputs": [],
   "source": []
  }
 ],
 "metadata": {
  "kernelspec": {
   "display_name": "Python 3 (ipykernel)",
   "language": "python",
   "name": "python3"
  },
  "language_info": {
   "codemirror_mode": {
    "name": "ipython",
    "version": 3
   },
   "file_extension": ".py",
   "mimetype": "text/x-python",
   "name": "python",
   "nbconvert_exporter": "python",
   "pygments_lexer": "ipython3",
   "version": "3.11.7"
  }
 },
 "nbformat": 4,
 "nbformat_minor": 5
}
