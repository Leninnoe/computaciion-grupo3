{
 "cells": [
  {
   "cell_type": "code",
   "execution_count": 1,
   "metadata": {},
   "outputs": [
    {
     "name": "stdout",
     "output_type": "stream",
     "text": [
      "{x: -2, y: -2, z: 40}\n"
     ]
    }
   ],
   "source": [
    "import sympy as sp\n",
    "\n",
    "# Definir las variables\n",
    "x, y, z = sp.symbols('x y z')\n",
    "\n",
    "# Definir las ecuaciones\n",
    "eq1 = sp.Eq(12*x + 5*y + z, 6)\n",
    "eq2 = sp.Eq(6*x + 10*y + z, 8)\n",
    "eq3 = sp.Eq(3*x + 15*y + z, 4)\n",
    "\n",
    "# Resolver el sistema de ecuaciones\n",
    "solucion = sp.solve((eq1, eq2, eq3), (x, y, z))\n",
    "print(solucion)"
   ]
  }
 ],
 "metadata": {
  "kernelspec": {
   "display_name": "Python 3",
   "language": "python",
   "name": "python3"
  },
  "language_info": {
   "codemirror_mode": {
    "name": "ipython",
    "version": 3
   },
   "file_extension": ".py",
   "mimetype": "text/x-python",
   "name": "python",
   "nbconvert_exporter": "python",
   "pygments_lexer": "ipython3",
   "version": "3.11.5"
  }
 },
 "nbformat": 4,
 "nbformat_minor": 2
}
